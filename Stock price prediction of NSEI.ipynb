{
 "cells": [
  {
   "cell_type": "code",
   "execution_count": 1,
   "metadata": {},
   "outputs": [],
   "source": [
    "import numpy as np\n",
    "import pandas as pd\n",
    "import seaborn as sns\n",
    "import matplotlib.pyplot as plt\n",
    "from sklearn.svm import SVR\n",
    "from sklearn.linear_model import LinearRegression\n",
    "from sklearn.model_selection import train_test_split"
   ]
  },
  {
   "cell_type": "code",
   "execution_count": 12,
   "metadata": {},
   "outputs": [],
   "source": [
    "data=pd.read_csv(\"NSEI.csv\")"
   ]
  },
  {
   "cell_type": "code",
   "execution_count": 13,
   "metadata": {},
   "outputs": [
    {
     "data": {
      "text/html": [
       "<div>\n",
       "<style scoped>\n",
       "    .dataframe tbody tr th:only-of-type {\n",
       "        vertical-align: middle;\n",
       "    }\n",
       "\n",
       "    .dataframe tbody tr th {\n",
       "        vertical-align: top;\n",
       "    }\n",
       "\n",
       "    .dataframe thead th {\n",
       "        text-align: right;\n",
       "    }\n",
       "</style>\n",
       "<table border=\"1\" class=\"dataframe\">\n",
       "  <thead>\n",
       "    <tr style=\"text-align: right;\">\n",
       "      <th></th>\n",
       "      <th>Date</th>\n",
       "      <th>Open</th>\n",
       "      <th>High</th>\n",
       "      <th>Low</th>\n",
       "      <th>Close</th>\n",
       "      <th>Adj Close</th>\n",
       "      <th>Volume</th>\n",
       "    </tr>\n",
       "  </thead>\n",
       "  <tbody>\n",
       "    <tr>\n",
       "      <th>0</th>\n",
       "      <td>2020-01-13</td>\n",
       "      <td>12296.700195</td>\n",
       "      <td>12337.750000</td>\n",
       "      <td>12285.799805</td>\n",
       "      <td>12329.549805</td>\n",
       "      <td>12329.549805</td>\n",
       "      <td>501000</td>\n",
       "    </tr>\n",
       "    <tr>\n",
       "      <th>1</th>\n",
       "      <td>2020-01-14</td>\n",
       "      <td>12333.099609</td>\n",
       "      <td>12374.250000</td>\n",
       "      <td>12308.700195</td>\n",
       "      <td>12362.299805</td>\n",
       "      <td>12362.299805</td>\n",
       "      <td>616300</td>\n",
       "    </tr>\n",
       "    <tr>\n",
       "      <th>2</th>\n",
       "      <td>2020-01-15</td>\n",
       "      <td>12349.400391</td>\n",
       "      <td>12355.150391</td>\n",
       "      <td>12278.750000</td>\n",
       "      <td>12343.299805</td>\n",
       "      <td>12343.299805</td>\n",
       "      <td>684400</td>\n",
       "    </tr>\n",
       "    <tr>\n",
       "      <th>3</th>\n",
       "      <td>2020-01-16</td>\n",
       "      <td>12347.099609</td>\n",
       "      <td>12389.049805</td>\n",
       "      <td>12315.799805</td>\n",
       "      <td>12355.500000</td>\n",
       "      <td>12355.500000</td>\n",
       "      <td>395700</td>\n",
       "    </tr>\n",
       "    <tr>\n",
       "      <th>4</th>\n",
       "      <td>2020-01-17</td>\n",
       "      <td>12328.400391</td>\n",
       "      <td>12385.450195</td>\n",
       "      <td>12321.400391</td>\n",
       "      <td>12352.349609</td>\n",
       "      <td>12352.349609</td>\n",
       "      <td>502100</td>\n",
       "    </tr>\n",
       "  </tbody>\n",
       "</table>\n",
       "</div>"
      ],
      "text/plain": [
       "         Date          Open          High           Low         Close  \\\n",
       "0  2020-01-13  12296.700195  12337.750000  12285.799805  12329.549805   \n",
       "1  2020-01-14  12333.099609  12374.250000  12308.700195  12362.299805   \n",
       "2  2020-01-15  12349.400391  12355.150391  12278.750000  12343.299805   \n",
       "3  2020-01-16  12347.099609  12389.049805  12315.799805  12355.500000   \n",
       "4  2020-01-17  12328.400391  12385.450195  12321.400391  12352.349609   \n",
       "\n",
       "      Adj Close  Volume  \n",
       "0  12329.549805  501000  \n",
       "1  12362.299805  616300  \n",
       "2  12343.299805  684400  \n",
       "3  12355.500000  395700  \n",
       "4  12352.349609  502100  "
      ]
     },
     "execution_count": 13,
     "metadata": {},
     "output_type": "execute_result"
    }
   ],
   "source": [
    "data.head()"
   ]
  },
  {
   "cell_type": "code",
   "execution_count": 45,
   "metadata": {},
   "outputs": [
    {
     "data": {
      "text/html": [
       "<div>\n",
       "<style scoped>\n",
       "    .dataframe tbody tr th:only-of-type {\n",
       "        vertical-align: middle;\n",
       "    }\n",
       "\n",
       "    .dataframe tbody tr th {\n",
       "        vertical-align: top;\n",
       "    }\n",
       "\n",
       "    .dataframe thead th {\n",
       "        text-align: right;\n",
       "    }\n",
       "</style>\n",
       "<table border=\"1\" class=\"dataframe\">\n",
       "  <thead>\n",
       "    <tr style=\"text-align: right;\">\n",
       "      <th></th>\n",
       "      <th>Date</th>\n",
       "      <th>Open</th>\n",
       "      <th>High</th>\n",
       "      <th>Low</th>\n",
       "      <th>Close</th>\n",
       "      <th>Adj Close</th>\n",
       "      <th>Volume</th>\n",
       "    </tr>\n",
       "  </thead>\n",
       "  <tbody>\n",
       "    <tr>\n",
       "      <th>95</th>\n",
       "      <td>2020-06-04</td>\n",
       "      <td>10054.250000</td>\n",
       "      <td>10123.849609</td>\n",
       "      <td>9944.250000</td>\n",
       "      <td>10029.099609</td>\n",
       "      <td>10029.099609</td>\n",
       "      <td>775100</td>\n",
       "    </tr>\n",
       "    <tr>\n",
       "      <th>96</th>\n",
       "      <td>2020-06-05</td>\n",
       "      <td>10093.799805</td>\n",
       "      <td>10177.799805</td>\n",
       "      <td>10040.750000</td>\n",
       "      <td>10142.150391</td>\n",
       "      <td>10142.150391</td>\n",
       "      <td>987100</td>\n",
       "    </tr>\n",
       "    <tr>\n",
       "      <th>97</th>\n",
       "      <td>2020-06-08</td>\n",
       "      <td>10326.750000</td>\n",
       "      <td>10328.500000</td>\n",
       "      <td>10120.250000</td>\n",
       "      <td>10167.450195</td>\n",
       "      <td>10167.450195</td>\n",
       "      <td>936500</td>\n",
       "    </tr>\n",
       "    <tr>\n",
       "      <th>98</th>\n",
       "      <td>2020-06-09</td>\n",
       "      <td>10181.150391</td>\n",
       "      <td>10291.150391</td>\n",
       "      <td>10021.450195</td>\n",
       "      <td>10046.650391</td>\n",
       "      <td>10046.650391</td>\n",
       "      <td>754200</td>\n",
       "    </tr>\n",
       "    <tr>\n",
       "      <th>99</th>\n",
       "      <td>2020-06-10</td>\n",
       "      <td>10072.599609</td>\n",
       "      <td>10148.750000</td>\n",
       "      <td>10036.849609</td>\n",
       "      <td>10116.150391</td>\n",
       "      <td>10116.150391</td>\n",
       "      <td>632400</td>\n",
       "    </tr>\n",
       "  </tbody>\n",
       "</table>\n",
       "</div>"
      ],
      "text/plain": [
       "          Date          Open          High           Low         Close  \\\n",
       "95  2020-06-04  10054.250000  10123.849609   9944.250000  10029.099609   \n",
       "96  2020-06-05  10093.799805  10177.799805  10040.750000  10142.150391   \n",
       "97  2020-06-08  10326.750000  10328.500000  10120.250000  10167.450195   \n",
       "98  2020-06-09  10181.150391  10291.150391  10021.450195  10046.650391   \n",
       "99  2020-06-10  10072.599609  10148.750000  10036.849609  10116.150391   \n",
       "\n",
       "       Adj Close  Volume  \n",
       "95  10029.099609  775100  \n",
       "96  10142.150391  987100  \n",
       "97  10167.450195  936500  \n",
       "98  10046.650391  754200  \n",
       "99  10116.150391  632400  "
      ]
     },
     "execution_count": 45,
     "metadata": {},
     "output_type": "execute_result"
    }
   ],
   "source": [
    "data.tail()"
   ]
  },
  {
   "cell_type": "code",
   "execution_count": 16,
   "metadata": {},
   "outputs": [
    {
     "data": {
      "text/plain": [
       "(100, 7)"
      ]
     },
     "execution_count": 16,
     "metadata": {},
     "output_type": "execute_result"
    }
   ],
   "source": [
    "data.shape"
   ]
  },
  {
   "cell_type": "code",
   "execution_count": 17,
   "metadata": {},
   "outputs": [
    {
     "name": "stdout",
     "output_type": "stream",
     "text": [
      "<class 'pandas.core.frame.DataFrame'>\n",
      "RangeIndex: 100 entries, 0 to 99\n",
      "Data columns (total 7 columns):\n",
      " #   Column     Non-Null Count  Dtype  \n",
      "---  ------     --------------  -----  \n",
      " 0   Date       100 non-null    object \n",
      " 1   Open       100 non-null    float64\n",
      " 2   High       100 non-null    float64\n",
      " 3   Low        100 non-null    float64\n",
      " 4   Close      100 non-null    float64\n",
      " 5   Adj Close  100 non-null    float64\n",
      " 6   Volume     100 non-null    int64  \n",
      "dtypes: float64(5), int64(1), object(1)\n",
      "memory usage: 5.6+ KB\n"
     ]
    }
   ],
   "source": [
    "data.info()"
   ]
  },
  {
   "cell_type": "code",
   "execution_count": 19,
   "metadata": {},
   "outputs": [
    {
     "data": {
      "text/html": [
       "<div>\n",
       "<style scoped>\n",
       "    .dataframe tbody tr th:only-of-type {\n",
       "        vertical-align: middle;\n",
       "    }\n",
       "\n",
       "    .dataframe tbody tr th {\n",
       "        vertical-align: top;\n",
       "    }\n",
       "\n",
       "    .dataframe thead th {\n",
       "        text-align: right;\n",
       "    }\n",
       "</style>\n",
       "<table border=\"1\" class=\"dataframe\">\n",
       "  <thead>\n",
       "    <tr style=\"text-align: right;\">\n",
       "      <th></th>\n",
       "      <th>Adj Close</th>\n",
       "    </tr>\n",
       "  </thead>\n",
       "  <tbody>\n",
       "    <tr>\n",
       "      <th>0</th>\n",
       "      <td>12329.549805</td>\n",
       "    </tr>\n",
       "    <tr>\n",
       "      <th>1</th>\n",
       "      <td>12362.299805</td>\n",
       "    </tr>\n",
       "    <tr>\n",
       "      <th>2</th>\n",
       "      <td>12343.299805</td>\n",
       "    </tr>\n",
       "    <tr>\n",
       "      <th>3</th>\n",
       "      <td>12355.500000</td>\n",
       "    </tr>\n",
       "    <tr>\n",
       "      <th>4</th>\n",
       "      <td>12352.349609</td>\n",
       "    </tr>\n",
       "  </tbody>\n",
       "</table>\n",
       "</div>"
      ],
      "text/plain": [
       "      Adj Close\n",
       "0  12329.549805\n",
       "1  12362.299805\n",
       "2  12343.299805\n",
       "3  12355.500000\n",
       "4  12352.349609"
      ]
     },
     "execution_count": 19,
     "metadata": {},
     "output_type": "execute_result"
    }
   ],
   "source": [
    "df=data[['Adj Close']]\n",
    "df.head()"
   ]
  },
  {
   "cell_type": "code",
   "execution_count": 21,
   "metadata": {},
   "outputs": [
    {
     "name": "stdout",
     "output_type": "stream",
     "text": [
      "       Adj Close  Prediction\n",
      "95  10029.099609         NaN\n",
      "96  10142.150391         NaN\n",
      "97  10167.450195         NaN\n",
      "98  10046.650391         NaN\n",
      "99  10116.150391         NaN\n"
     ]
    },
    {
     "name": "stderr",
     "output_type": "stream",
     "text": [
      "C:\\Users\\DELL\\anaconda3\\lib\\site-packages\\ipykernel_launcher.py:2: SettingWithCopyWarning: \n",
      "A value is trying to be set on a copy of a slice from a DataFrame.\n",
      "Try using .loc[row_indexer,col_indexer] = value instead\n",
      "\n",
      "See the caveats in the documentation: https://pandas.pydata.org/pandas-docs/stable/user_guide/indexing.html#returning-a-view-versus-a-copy\n",
      "  \n"
     ]
    }
   ],
   "source": [
    "forecast_out=30\n",
    "df['Prediction']=df[['Adj Close']].shift(-forecast_out)\n",
    "print(df.tail())"
   ]
  },
  {
   "cell_type": "code",
   "execution_count": 22,
   "metadata": {},
   "outputs": [
    {
     "name": "stdout",
     "output_type": "stream",
     "text": [
      "[[12329.549805]\n",
      " [12362.299805]\n",
      " [12343.299805]\n",
      " [12355.5     ]\n",
      " [12352.349609]\n",
      " [12224.549805]\n",
      " [12169.849609]\n",
      " [12106.900391]\n",
      " [12180.349609]\n",
      " [12248.25    ]\n",
      " [12119.      ]\n",
      " [12055.799805]\n",
      " [12129.5     ]\n",
      " [12035.799805]\n",
      " [11962.099609]\n",
      " [11707.900391]\n",
      " [11979.650391]\n",
      " [12089.150391]\n",
      " [12137.950195]\n",
      " [12098.349609]\n",
      " [12031.5     ]\n",
      " [12107.900391]\n",
      " [12201.200195]\n",
      " [12174.650391]\n",
      " [12113.450195]\n",
      " [12045.799805]\n",
      " [11992.5     ]\n",
      " [12125.900391]\n",
      " [12080.849609]\n",
      " [11829.400391]\n",
      " [11797.900391]\n",
      " [11678.5     ]\n",
      " [11633.299805]\n",
      " [11201.75    ]\n",
      " [11132.75    ]\n",
      " [11303.299805]\n",
      " [11251.      ]\n",
      " [11269.      ]\n",
      " [10989.450195]\n",
      " [10451.450195]\n",
      " [10458.400391]\n",
      " [ 9590.150391]\n",
      " [ 9955.200195]\n",
      " [ 9197.400391]\n",
      " [ 8967.049805]\n",
      " [ 8468.799805]\n",
      " [ 8263.450195]\n",
      " [ 8745.450195]\n",
      " [ 7610.25    ]\n",
      " [ 7801.049805]\n",
      " [ 8317.849609]\n",
      " [ 8641.450195]\n",
      " [ 8660.25    ]\n",
      " [ 8281.099609]\n",
      " [ 8597.75    ]\n",
      " [ 8253.799805]\n",
      " [ 8083.799805]\n",
      " [ 8792.200195]\n",
      " [ 8748.75    ]\n",
      " [ 9111.900391]\n",
      " [ 8993.849609]\n",
      " [ 8925.299805]\n",
      " [ 8992.799805]\n",
      " [ 9266.75    ]\n",
      " [ 9261.849609]\n",
      " [ 8981.450195]\n",
      " [ 9187.299805]\n",
      " [ 9313.900391]\n",
      " [ 9154.400391]\n",
      " [ 9282.299805]]\n"
     ]
    }
   ],
   "source": [
    "X=np.array(df.drop(['Prediction'],1))\n",
    "X=X[:-forecast_out]\n",
    "print(X)\n"
   ]
  },
  {
   "cell_type": "code",
   "execution_count": 23,
   "metadata": {},
   "outputs": [
    {
     "data": {
      "text/plain": [
       "array([11797.900391, 11678.5     , 11633.299805, 11201.75    ,\n",
       "       11132.75    , 11303.299805, 11251.      , 11269.      ,\n",
       "       10989.450195, 10451.450195, 10458.400391,  9590.150391,\n",
       "        9955.200195,  9197.400391,  8967.049805,  8468.799805,\n",
       "        8263.450195,  8745.450195,  7610.25    ,  7801.049805,\n",
       "        8317.849609,  8641.450195,  8660.25    ,  8281.099609,\n",
       "        8597.75    ,  8253.799805,  8083.799805,  8792.200195,\n",
       "        8748.75    ,  9111.900391,  8993.849609,  8925.299805,\n",
       "        8992.799805,  9266.75    ,  9261.849609,  8981.450195,\n",
       "        9187.299805,  9313.900391,  9154.400391,  9282.299805,\n",
       "        9380.900391,  9553.349609,  9859.900391,  9293.5     ,\n",
       "        9205.599609,  9270.900391,  9199.049805,  9251.5     ,\n",
       "        9239.200195,  9196.549805,  9383.549805,  9142.75    ,\n",
       "        9136.849609,  8823.25    ,  8879.099609,  9066.549805,\n",
       "        9106.25    ,  9039.25    ,  9029.049805,  9314.950195,\n",
       "        9490.099609,  9580.299805,  9826.150391,  9979.099609,\n",
       "       10061.549805, 10029.099609, 10142.150391, 10167.450195,\n",
       "       10046.650391, 10116.150391])"
      ]
     },
     "execution_count": 23,
     "metadata": {},
     "output_type": "execute_result"
    }
   ],
   "source": [
    "Y=np.array(df['Prediction'])\n",
    "Y = Y[:-forecast_out]\n",
    "Y"
   ]
  },
  {
   "cell_type": "code",
   "execution_count": 105,
   "metadata": {},
   "outputs": [],
   "source": [
    "X_train,X_test,Y_train,Y_test=train_test_split(X,Y,test_size=0.20,random_state=1)"
   ]
  },
  {
   "cell_type": "code",
   "execution_count": 106,
   "metadata": {},
   "outputs": [],
   "source": [
    "X_train_scaled = scaler.fit_transform(X_train)\n",
    "X_train1 = pd.DataFrame(X_train_scaled)\n",
    "\n",
    "X_test_scaled = scaler.fit_transform(X_test)\n",
    "X_test1 = pd.DataFrame(X_test_scaled)"
   ]
  },
  {
   "cell_type": "markdown",
   "metadata": {},
   "source": [
    "# SVR"
   ]
  },
  {
   "cell_type": "code",
   "execution_count": 107,
   "metadata": {},
   "outputs": [
    {
     "data": {
      "text/plain": [
       "SVR(C=1000.0, cache_size=200, coef0=0.0, degree=3, epsilon=0.1, gamma=0.1,\n",
       "    kernel='rbf', max_iter=-1, shrinking=True, tol=0.001, verbose=False)"
      ]
     },
     "execution_count": 107,
     "metadata": {},
     "output_type": "execute_result"
    }
   ],
   "source": [
    "svr_rbf = SVR(kernel='rbf', C=1e3, gamma=0.1) \n",
    "svr_rbf.fit(X_train1, Y_train)\n"
   ]
  },
  {
   "cell_type": "code",
   "execution_count": 108,
   "metadata": {},
   "outputs": [
    {
     "name": "stdout",
     "output_type": "stream",
     "text": [
      "svm confidence:  -0.008870709536397126\n"
     ]
    }
   ],
   "source": [
    "svm_confidence=svr_rbf.score(X_test1,Y_test)\n",
    "print(\"svm confidence: \", svm_confidence)\n"
   ]
  },
  {
   "cell_type": "markdown",
   "metadata": {},
   "source": [
    "# Linear Regression"
   ]
  },
  {
   "cell_type": "code",
   "execution_count": 126,
   "metadata": {},
   "outputs": [
    {
     "data": {
      "text/plain": [
       "LinearRegression(copy_X=True, fit_intercept=True, n_jobs=None, normalize=False)"
      ]
     },
     "execution_count": 126,
     "metadata": {},
     "output_type": "execute_result"
    }
   ],
   "source": [
    "from sklearn.linear_model import LinearRegression\n",
    "# Create and train the Linear Regression  Model\n",
    "lr = LinearRegression()\n",
    "# Train the model\n",
    "lr.fit(X_train, Y_train)"
   ]
  },
  {
   "cell_type": "code",
   "execution_count": 127,
   "metadata": {},
   "outputs": [
    {
     "name": "stdout",
     "output_type": "stream",
     "text": [
      "lr confidence:  -0.02487146228566628\n"
     ]
    }
   ],
   "source": [
    "# Testing Model: Score returns the coefficient of determination R^2 of the prediction. \n",
    "# The best possible score is 1.0\n",
    "lr_confidence = lr.score(X_test, Y_test)\n",
    "print(\"lr confidence: \", lr_confidence)\n"
   ]
  },
  {
   "cell_type": "markdown",
   "metadata": {},
   "source": [
    "# GBR"
   ]
  },
  {
   "cell_type": "code",
   "execution_count": 133,
   "metadata": {},
   "outputs": [],
   "source": [
    "from sklearn import ensemble\n",
    "clf = ensemble.GradientBoostingRegressor(n_estimators = 400, max_depth = 5, min_samples_split = 2,\n",
    "          learning_rate = 0.1, loss = 'ls')"
   ]
  },
  {
   "cell_type": "code",
   "execution_count": 134,
   "metadata": {},
   "outputs": [
    {
     "data": {
      "text/plain": [
       "GradientBoostingRegressor(alpha=0.9, ccp_alpha=0.0, criterion='friedman_mse',\n",
       "                          init=None, learning_rate=0.1, loss='ls', max_depth=5,\n",
       "                          max_features=None, max_leaf_nodes=None,\n",
       "                          min_impurity_decrease=0.0, min_impurity_split=None,\n",
       "                          min_samples_leaf=1, min_samples_split=2,\n",
       "                          min_weight_fraction_leaf=0.0, n_estimators=400,\n",
       "                          n_iter_no_change=None, presort='deprecated',\n",
       "                          random_state=None, subsample=1.0, tol=0.0001,\n",
       "                          validation_fraction=0.1, verbose=0, warm_start=False)"
      ]
     },
     "execution_count": 134,
     "metadata": {},
     "output_type": "execute_result"
    }
   ],
   "source": [
    "clf.fit(X_train, Y_train)"
   ]
  },
  {
   "cell_type": "code",
   "execution_count": 135,
   "metadata": {},
   "outputs": [
    {
     "data": {
      "text/plain": [
       "0.9999999969171435"
      ]
     },
     "execution_count": 135,
     "metadata": {},
     "output_type": "execute_result"
    }
   ],
   "source": [
    "clf.score(X_train, Y_train)"
   ]
  },
  {
   "cell_type": "code",
   "execution_count": 136,
   "metadata": {},
   "outputs": [
    {
     "name": "stdout",
     "output_type": "stream",
     "text": [
      "[[ 9380.900391]\n",
      " [ 9553.349609]\n",
      " [ 9859.900391]\n",
      " [ 9293.5     ]\n",
      " [ 9205.599609]\n",
      " [ 9270.900391]\n",
      " [ 9199.049805]\n",
      " [ 9251.5     ]\n",
      " [ 9239.200195]\n",
      " [ 9196.549805]\n",
      " [ 9383.549805]\n",
      " [ 9142.75    ]\n",
      " [ 9136.849609]\n",
      " [ 8823.25    ]\n",
      " [ 8879.099609]\n",
      " [ 9066.549805]\n",
      " [ 9106.25    ]\n",
      " [ 9039.25    ]\n",
      " [ 9029.049805]\n",
      " [ 9314.950195]\n",
      " [ 9490.099609]\n",
      " [ 9580.299805]\n",
      " [ 9826.150391]\n",
      " [ 9979.099609]\n",
      " [10061.549805]\n",
      " [10029.099609]\n",
      " [10142.150391]\n",
      " [10167.450195]\n",
      " [10046.650391]\n",
      " [10116.150391]]\n"
     ]
    }
   ],
   "source": [
    "x_forecast = np.array(df.drop(['Prediction'],1))[-forecast_out:]\n",
    "print(x_forecast)\n"
   ]
  },
  {
   "cell_type": "code",
   "execution_count": 137,
   "metadata": {},
   "outputs": [
    {
     "name": "stdout",
     "output_type": "stream",
     "text": [
      "[9173.35548472 9173.35548472 9173.35548472 9173.35548472 9173.35548472\n",
      " 9173.35548472 9173.35548472 9173.35548472 9173.35548472 9173.35548472\n",
      " 9173.35548472 9173.35548472 9173.35548472 9173.35548472 9173.35548472\n",
      " 9173.35548472 9173.35548472 9173.35548472 9173.35548472 9173.35548472\n",
      " 9173.35548472 9173.35548472 9173.35548472 9173.35548472 9173.35548472\n",
      " 9173.35548472 9173.35548472 9173.35548472 9173.35548472 9173.35548472]\n",
      "[9410.23605852 9420.99878539 9440.13092399 9404.78131336 9399.29536271\n",
      " 9403.37084933 9398.88658294 9402.16005167 9401.39240863 9398.73055545\n",
      " 9410.40141108 9395.37285622 9395.00460696 9375.43254407 9378.91817361\n",
      " 9390.61712641 9393.09485499 9388.91331848 9388.27671419 9406.12004132\n",
      " 9417.05129011 9422.68077388 9438.02455299 9447.57026551 9452.71606408\n",
      " 9450.69081514 9457.74642666 9459.32541254 9451.78617687 9456.12374085]\n",
      "[10167.34919217  9553.46518777  9859.81750675 10116.11448195\n",
      "  9293.56030727  9979.18181172  9293.56030727 10061.46619525\n",
      " 10061.46619525  9293.56030727 10167.34919217 10046.59067808\n",
      " 10046.59067808  9039.26311737  9580.27530764  9315.0024197\n",
      "  9315.0024197   9826.10544578  9826.10544578 10167.34919217\n",
      "  9553.46518777  9553.46518777  9859.81750675  9859.81750675\n",
      "  9859.81750675  9859.81750675  9859.81750675  9859.81750675\n",
      "  9859.81750675  9859.81750675]\n"
     ]
    }
   ],
   "source": [
    "#SVR\n",
    "svm_prediction = svr_rbf.predict(x_forecast)\n",
    "print(svm_prediction)\n",
    "\n",
    "#Linear Regression\n",
    "lr_prediction = lr.predict(x_forecast)\n",
    "print(lr_prediction)\n",
    "\n",
    "\n",
    "#GBR\n",
    "clf_prediction=clf.predict(x_forecast)\n",
    "print(clf_prediction)\n",
    "\n",
    "\n"
   ]
  },
  {
   "cell_type": "code",
   "execution_count": 138,
   "metadata": {},
   "outputs": [],
   "source": [
    "from sklearn import neighbors\n",
    "from sklearn.metrics import mean_squared_error \n",
    "from math import sqrt\n",
    "import matplotlib.pyplot as plt"
   ]
  },
  {
   "cell_type": "code",
   "execution_count": 139,
   "metadata": {},
   "outputs": [],
   "source": [
    "from sklearn.preprocessing import MinMaxScaler\n",
    "scaler = MinMaxScaler(feature_range=(0, 1))\n",
    "\n",
    "X_train_scaled = scaler.fit_transform(X_train)\n",
    "X_train1 = pd.DataFrame(X_train_scaled)\n",
    "\n",
    "X_test_scaled = scaler.fit_transform(X_test)\n",
    "X_test1 = pd.DataFrame(X_test_scaled)"
   ]
  },
  {
   "cell_type": "code",
   "execution_count": 140,
   "metadata": {},
   "outputs": [
    {
     "name": "stdout",
     "output_type": "stream",
     "text": [
      "RMSE value for k=  1 is: 721.1976800572993\n",
      "RMSE value for k=  2 is: 424.7275738610798\n",
      "RMSE value for k=  3 is: 527.111851429346\n",
      "RMSE value for k=  4 is: 378.8158442339283\n",
      "RMSE value for k=  5 is: 364.571210683397\n",
      "RMSE value for k=  6 is: 371.6854970565618\n",
      "RMSE value for k=  7 is: 408.38734051464763\n",
      "RMSE value for k=  8 is: 428.03276883259576\n",
      "RMSE value for k=  9 is: 458.5132838367244\n",
      "RMSE value for k=  10 is: 466.0603197806513\n",
      "RMSE value for k=  11 is: 534.8847894420883\n",
      "RMSE value for k=  12 is: 542.4468694749328\n",
      "RMSE value for k=  13 is: 540.5121842841036\n",
      "RMSE value for k=  14 is: 575.9206951742707\n",
      "RMSE value for k=  15 is: 584.1921945500615\n",
      "RMSE value for k=  16 is: 594.0181541217556\n",
      "RMSE value for k=  17 is: 616.8299293509476\n",
      "RMSE value for k=  18 is: 641.4066955472719\n",
      "RMSE value for k=  19 is: 646.9063175594143\n",
      "RMSE value for k=  20 is: 677.1461929690732\n"
     ]
    }
   ],
   "source": [
    "rmse_val = [] #to store rmse values for different k\n",
    "for K in range(20):\n",
    "    K = K+1\n",
    "    knn_model = neighbors.KNeighborsRegressor(n_neighbors = K)\n",
    "\n",
    "    knn_model.fit(X_train1, Y_train)  #fit the model\n",
    "    pred=knn_model.predict(X_test1) #make prediction on test set\n",
    "    error = sqrt(mean_squared_error(Y_test,pred)) #calculate rmse\n",
    "    rmse_val.append(error) #store rmse values\n",
    "    print('RMSE value for k= ' , K , 'is:', error)"
   ]
  },
  {
   "cell_type": "code",
   "execution_count": 141,
   "metadata": {},
   "outputs": [
    {
     "data": {
      "text/plain": [
       "<matplotlib.axes._subplots.AxesSubplot at 0xc17f948>"
      ]
     },
     "execution_count": 141,
     "metadata": {},
     "output_type": "execute_result"
    },
    {
     "data": {
      "image/png": "[encoded data removed]",
      "text/plain": [
       "<Figure size 432x288 with 1 Axes>"
      ]
     },
     "metadata": {
      "needs_background": "light"
     },
     "output_type": "display_data"
    }
   ],
   "source": [
    "#plotting the rmse values against k values\n",
    "curve = pd.DataFrame(rmse_val) #elbow curve \n",
    "curve.plot()"
   ]
  },
  {
   "cell_type": "code",
   "execution_count": 144,
   "metadata": {},
   "outputs": [
    {
     "data": {
      "text/plain": [
       "array([9522.8774903 , 9245.1050293 , 9531.9700196 , 9483.209961  ,\n",
       "       9496.0475586 , 9522.8774903 , 9460.85498055, 8947.8700196 ,\n",
       "       9460.85498055, 9061.76752935, 9908.24506835, 9234.11000985,\n",
       "       9460.85498055, 8947.8700196 ])"
      ]
     },
     "execution_count": 144,
     "metadata": {},
     "output_type": "execute_result"
    }
   ],
   "source": [
    "pred"
   ]
  },
  {
   "cell_type": "code",
   "execution_count": 147,
   "metadata": {},
   "outputs": [
    {
     "data": {
      "text/plain": [
       "0.24573618337119166"
      ]
     },
     "execution_count": 147,
     "metadata": {},
     "output_type": "execute_result"
    }
   ],
   "source": [
    "knn_model.score(X_train1, Y_train)"
   ]
  },
  {
   "cell_type": "markdown",
   "metadata": {},
   "source": [
    "# Cross Validation"
   ]
  },
  {
   "cell_type": "code",
   "execution_count": 149,
   "metadata": {},
   "outputs": [],
   "source": [
    "train, validation = train_test_split(df, test_size=0.50, random_state = 5)"
   ]
  },
  {
   "cell_type": "code",
   "execution_count": 158,
   "metadata": {},
   "outputs": [],
   "source": [
    "import pandas\n",
    "from sklearn.model_selection import KFold\n",
    "from sklearn.preprocessing import MinMaxScaler\n",
    "from sklearn.svm import SVR\n",
    "import numpy as np"
   ]
  },
  {
   "cell_type": "code",
   "execution_count": 159,
   "metadata": {},
   "outputs": [],
   "source": [
    "scaler = MinMaxScaler(feature_range=(0, 1))\n",
    "X = scaler.fit_transform(X)"
   ]
  },
  {
   "cell_type": "code",
   "execution_count": 160,
   "metadata": {},
   "outputs": [
    {
     "name": "stdout",
     "output_type": "stream",
     "text": [
      "Train Index:  [ 7  8  9 10 11 12 13 14 15 16 17 18 19 20 21 22 23 24 25 26 27 28 29 30\n",
      " 31 32 33 34 35 36 37 38 39 40 41 42 43 44 45 46 47 48 49 50 51 52 53 54\n",
      " 55 56 57 58 59 60 61 62 63 64 65 66 67 68 69] \n",
      "\n",
      "Test Index:  [0 1 2 3 4 5 6]\n",
      "Train Index:  [ 0  1  2  3  4  5  6 14 15 16 17 18 19 20 21 22 23 24 25 26 27 28 29 30\n",
      " 31 32 33 34 35 36 37 38 39 40 41 42 43 44 45 46 47 48 49 50 51 52 53 54\n",
      " 55 56 57 58 59 60 61 62 63 64 65 66 67 68 69] \n",
      "\n",
      "Test Index:  [ 7  8  9 10 11 12 13]\n",
      "Train Index:  [ 0  1  2  3  4  5  6  7  8  9 10 11 12 13 21 22 23 24 25 26 27 28 29 30\n",
      " 31 32 33 34 35 36 37 38 39 40 41 42 43 44 45 46 47 48 49 50 51 52 53 54\n",
      " 55 56 57 58 59 60 61 62 63 64 65 66 67 68 69] \n",
      "\n",
      "Test Index:  [14 15 16 17 18 19 20]\n",
      "Train Index:  [ 0  1  2  3  4  5  6  7  8  9 10 11 12 13 14 15 16 17 18 19 20 28 29 30\n",
      " 31 32 33 34 35 36 37 38 39 40 41 42 43 44 45 46 47 48 49 50 51 52 53 54\n",
      " 55 56 57 58 59 60 61 62 63 64 65 66 67 68 69] \n",
      "\n",
      "Test Index:  [21 22 23 24 25 26 27]\n",
      "Train Index:  [ 0  1  2  3  4  5  6  7  8  9 10 11 12 13 14 15 16 17 18 19 20 21 22 23\n",
      " 24 25 26 27 35 36 37 38 39 40 41 42 43 44 45 46 47 48 49 50 51 52 53 54\n",
      " 55 56 57 58 59 60 61 62 63 64 65 66 67 68 69] \n",
      "\n",
      "Test Index:  [28 29 30 31 32 33 34]\n",
      "Train Index:  [ 0  1  2  3  4  5  6  7  8  9 10 11 12 13 14 15 16 17 18 19 20 21 22 23\n",
      " 24 25 26 27 28 29 30 31 32 33 34 42 43 44 45 46 47 48 49 50 51 52 53 54\n",
      " 55 56 57 58 59 60 61 62 63 64 65 66 67 68 69] \n",
      "\n",
      "Test Index:  [35 36 37 38 39 40 41]\n",
      "Train Index:  [ 0  1  2  3  4  5  6  7  8  9 10 11 12 13 14 15 16 17 18 19 20 21 22 23\n",
      " 24 25 26 27 28 29 30 31 32 33 34 35 36 37 38 39 40 41 49 50 51 52 53 54\n",
      " 55 56 57 58 59 60 61 62 63 64 65 66 67 68 69] \n",
      "\n",
      "Test Index:  [42 43 44 45 46 47 48]\n",
      "Train Index:  [ 0  1  2  3  4  5  6  7  8  9 10 11 12 13 14 15 16 17 18 19 20 21 22 23\n",
      " 24 25 26 27 28 29 30 31 32 33 34 35 36 37 38 39 40 41 42 43 44 45 46 47\n",
      " 48 56 57 58 59 60 61 62 63 64 65 66 67 68 69] \n",
      "\n",
      "Test Index:  [49 50 51 52 53 54 55]\n",
      "Train Index:  [ 0  1  2  3  4  5  6  7  8  9 10 11 12 13 14 15 16 17 18 19 20 21 22 23\n",
      " 24 25 26 27 28 29 30 31 32 33 34 35 36 37 38 39 40 41 42 43 44 45 46 47\n",
      " 48 49 50 51 52 53 54 55 63 64 65 66 67 68 69] \n",
      "\n",
      "Test Index:  [56 57 58 59 60 61 62]\n",
      "Train Index:  [ 0  1  2  3  4  5  6  7  8  9 10 11 12 13 14 15 16 17 18 19 20 21 22 23\n",
      " 24 25 26 27 28 29 30 31 32 33 34 35 36 37 38 39 40 41 42 43 44 45 46 47\n",
      " 48 49 50 51 52 53 54 55 56 57 58 59 60 61 62] \n",
      "\n",
      "Test Index:  [63 64 65 66 67 68 69]\n"
     ]
    },
    {
     "name": "stderr",
     "output_type": "stream",
     "text": [
      "C:\\Users\\DELL\\anaconda3\\lib\\site-packages\\sklearn\\model_selection\\_split.py:296: FutureWarning: Setting a random_state has no effect since shuffle is False. This will raise an error in 0.24. You should leave random_state to its default (None), or set shuffle=True.\n",
      "  FutureWarning\n"
     ]
    }
   ],
   "source": [
    "scores = []\n",
    "best_svr = SVR(kernel='rbf')\n",
    "cv = KFold(n_splits=10, random_state=42, shuffle=False)\n",
    "for train_index, test_index in cv.split(X):\n",
    "    print(\"Train Index: \", train_index, \"\\n\")\n",
    "    print(\"Test Index: \", test_index)\n",
    "\n",
    "    X_train, X_test, Y_train, Y_test = X[train_index], X[test_index], Y[train_index], Y[test_index]\n",
    "    best_svr.fit(X_train, Y_train)\n",
    "    scores.append(best_svr.score(X_test, Y_test))"
   ]
  },
  {
   "cell_type": "code",
   "execution_count": 163,
   "metadata": {},
   "outputs": [],
   "source": [
    "best_svr.fit(X_train, Y_train)\n",
    "scores.append(best_svr.score(X_test, Y_test))"
   ]
  },
  {
   "cell_type": "code",
   "execution_count": 164,
   "metadata": {},
   "outputs": [
    {
     "name": "stdout",
     "output_type": "stream",
     "text": [
      "-45.54823861686014\n"
     ]
    }
   ],
   "source": [
    "print(np.mean(scores))"
   ]
  },
  {
   "cell_type": "code",
   "execution_count": 170,
   "metadata": {},
   "outputs": [
    {
     "data": {
      "text/plain": [
       "array([-8.26311383e+01, -2.52210510e+00, -4.60515958e+00, -1.06486239e+01,\n",
       "       -1.71436355e+00,  1.08274633e-02, -3.22138415e-01, -1.04739201e+00,\n",
       "       -1.10063145e-01, -1.98720234e+02])"
      ]
     },
     "execution_count": 170,
     "metadata": {},
     "output_type": "execute_result"
    }
   ],
   "source": [
    "from sklearn.model_selection import cross_val_score,cross_val_predict\n",
    "cross_val_score(best_svr, X, Y, cv=10)"
   ]
  },
  {
   "cell_type": "code",
   "execution_count": 172,
   "metadata": {},
   "outputs": [
    {
     "data": {
      "text/plain": [
       "array([9183.36538177, 9183.44183915, 9183.39621629, 9183.42511339,\n",
       "       9183.41751413, 9183.19333499, 9183.15057766, 9183.25282214,\n",
       "       9183.32473159, 9183.44471272, 9183.26037735, 9183.24015345,\n",
       "       9183.26832334, 9183.24381848, 9269.21757572, 9268.89162055,\n",
       "       9269.252003  , 9269.4931583 , 9269.61296917, 9269.51523588,\n",
       "       9269.3608771 , 9269.62857722, 9269.92719268, 9269.84045555,\n",
       "       9269.64579676, 9269.44187898, 9269.29187365, 9269.68470978,\n",
       "       9268.66292039, 9268.67586271, 9268.70169758, 9268.85352363,\n",
       "       9268.93388229, 9270.33362896, 9270.65428569, 9236.94301004,\n",
       "       9237.21423367, 9237.11904398, 9238.7860056 , 9242.54128993,\n",
       "       9242.49387142, 9246.30869869, 9208.24111167, 9208.56635602,\n",
       "       9207.58368413, 9204.64793618, 9203.43644611, 9206.3486017 ,\n",
       "       9200.903905  , 9266.9197869 , 9269.92760645, 9272.19191947,\n",
       "       9272.31960615, 9269.67587681, 9271.89133462, 9269.49124293,\n",
       "       9240.79661329, 9244.56543646, 9244.33467801, 9246.01577874,\n",
       "       9245.54326478, 9245.23149802, 9245.53868041, 9202.15212534,\n",
       "       9202.14373246, 9201.47642582, 9202.00074633, 9202.22620437,\n",
       "       9201.92896216, 9202.1779029 ])"
      ]
     },
     "execution_count": 172,
     "metadata": {},
     "output_type": "execute_result"
    }
   ],
   "source": [
    "cross_val_predict(best_svr, X, Y, cv=10)"
   ]
  },
  {
   "cell_type": "markdown",
   "metadata": {},
   "source": [
    "### We got GBR as best model with the score of 99%"
   ]
  },
  {
   "cell_type": "code",
   "execution_count": null,
   "metadata": {},
   "outputs": [],
   "source": []
  }
 ],
 "metadata": {
  "kernelspec": {
   "display_name": "Python 3",
   "language": "python",
   "name": "python3"
  },
  "language_info": {
   "codemirror_mode": {
    "name": "ipython",
    "version": 3
   },
   "file_extension": ".py",
   "mimetype": "text/x-python",
   "name": "python",
   "nbconvert_exporter": "python",
   "pygments_lexer": "ipython3",
   "version": "3.7.6"
  }
 },
 "nbformat": 4,
 "nbformat_minor": 4
}
